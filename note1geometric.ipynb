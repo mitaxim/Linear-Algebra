{
 "cells": [
  {
   "cell_type": "markdown",
   "metadata": {},
   "source": [
    "  To run code in each cell,  use shift enter or tinker  with cell part of the bar menu above \n",
    "  You may come across run issues look up online references of tinker and figure out, failure of the\n",
    "  code is not a big deal as you can always delete the old file and start afresh."
   ]
  },
  {
   "cell_type": "code",
   "execution_count": null,
   "metadata": {},
   "outputs": [],
   "source": [
    "# To draw two lines of your choice import python libraries\n",
    "# define x range\n",
    "# define line parameters\n",
    "# y is the line definition\n",
    "# Use plot to draw the lines\n",
    "# Please note that indentation is used for nested statements without using \"end\"\n",
    "\n",
    "import numpy as np  # Python library for efficient computation\n",
    "import matplotlib.pyplot as plt  # Plot library\n",
    "x = np.arange(-10, 10, 0.5) #  defining the x range and step size\n",
    "m1 = 2           # slope and intercept for line 1 and line 2\n",
    "c1 = 3\n",
    "m2 = 2\n",
    "c2 = -2\n",
    "def y(x,m,c):\n",
    "    return m*x + c\n",
    "plt.plot(x, y(x,m1,c1), 'b', x, y(x,m2,c2), 'g')\n",
    "plt.show()"
   ]
  },
  {
   "cell_type": "code",
   "execution_count": null,
   "metadata": {},
   "outputs": [],
   "source": [
    "# Solving the two equations, check for special cases\n",
    "x0 = \"not defined\"\n",
    "y0 = \"not defined\"\n",
    "if  (m1*m2)==0 :\n",
    "    if m1 != 0:\n",
    "        y0 = c2\n",
    "        x0 =  (c2 - c1)/m1\n",
    "    elif  m2 != 0 :\n",
    "        y0 = c1 \n",
    "        x0 =  (c1 - c2)/m2\n",
    "    elif  c1 == c2:\n",
    "         print(\"The lines are the same, zero slope\")\n",
    "    elif c1 !=c2 :\n",
    "        print(\"parallel lines zero slope\")    \n",
    "elif (m1-m2) != 0 :\n",
    "    x0 = (c2-c1)/(m1 - m2)\n",
    "    y0 = m1*x0 + c1\n",
    "elif (c1 == c2) :\n",
    "    print(\"The lines are the same\")\n",
    "    print(\"infinite number of solutions\")\n",
    "elif c1 != c2 :\n",
    "    print(\"parallel lines, solution does not exist\")\n",
    "(x0,y0)        "
   ]
  },
  {
   "cell_type": "markdown",
   "metadata": {},
   "source": [
    "Matrix form of the equation is\n",
    "$$\n",
    "\\left(\\begin{array}{cc}\n",
    "m1 & -1\\\\\n",
    "m2 & -1\n",
    "\\end{array}\\right)\n",
    "\\left(\\begin{array}{c}\n",
    "x \\\\\n",
    "y\n",
    "\\end{array}\\right)\n",
    "=\n",
    "\\left(\\begin{array}{c}\n",
    "-c1 \\\\\n",
    "-c2\n",
    "\\end{array}\\right)\n",
    "$$"
   ]
  },
  {
   "cell_type": "code",
   "execution_count": null,
   "metadata": {},
   "outputs": [],
   "source": [
    "# Define two lines and draw them\n",
    "m1p = 2\n",
    "m2p = 1\n",
    "c1p = -1\n",
    "c2p = 2\n",
    "plt.plot(x, y(x,m1p,c1p), 'r', x, y(x,m2p,c2p), 'c')\n",
    "plt.show()"
   ]
  },
  {
   "cell_type": "code",
   "execution_count": null,
   "metadata": {
    "collapsed": true
   },
   "outputs": [],
   "source": [
    "# Repeat the exercise to draw three lines\n",
    "# Write the code below"
   ]
  },
  {
   "cell_type": "markdown",
   "metadata": {},
   "source": [
    "Write the matrix equation representing 3 intersecting lines, How many variables (unknowns) are there?, how many equations are there? What does the solution mean geometrically? How many different types of solutions can there be?"
   ]
  },
  {
   "cell_type": "markdown",
   "metadata": {},
   "source": [
    "   Consider a matrix equation $ A x\\uparrow = b \\uparrow $ as follows, \n",
    "$$\n",
    "\\left(\\begin{array}{cc}\n",
    "a11 & a12\\\\\n",
    "a21 & a22\n",
    "\\end{array}\\right)\n",
    "\\left(\\begin{array}{c}\n",
    "x \\\\\n",
    "y\n",
    "\\end{array}\\right)\n",
    "=\n",
    "\\left(\\begin{array}{c}\n",
    "b1 \\\\\n",
    "b2\n",
    "\\end{array}\\right)\n",
    "$$\n",
    "   \n",
    "    The question of finding solutions of the above matrix equation can be thought of as that of finding the intersection point(s) for a set of lines. This gemetric picture is also known as row picture of the matrix equation.\n",
    "\n",
    "  One can also interprete the matrix equation in terms of addition of vectors as follows,\n",
    "$$\n",
    "x\n",
    "\\left(\\begin{array}{c}\n",
    "a11 \\\\\n",
    "a21\n",
    "\\end{array}\\right)\n",
    "+ y\n",
    "\\left(\\begin{array}{c}\n",
    "a12 \\\\\n",
    "a22\n",
    "\\end{array}\\right)\n",
    "=\n",
    "\\left(\\begin{array}{c}\n",
    "b1 \\\\\n",
    "b2\n",
    "\\end{array}\\right)\n",
    "$$\n",
    "\n",
    "  Here the question is to look for scaling facctors $x$ and $y$ so that the vector sum of the two given scaled vectors \n",
    "  equals the RHS. This geometric picture is known as the column picture.\n",
    "  \n",
    "  The matrix equation can also be interpreted in a third scenario where the matrix is to be thought of a linear \n",
    "  transformation and the question reduces to that of finding a vector whose linear transformation gives the RHS\n",
    "  \n",
    "  "
   ]
  },
  {
   "cell_type": "code",
   "execution_count": null,
   "metadata": {
    "collapsed": true
   },
   "outputs": [],
   "source": []
  }
 ],
 "metadata": {
  "kernelspec": {
   "display_name": "Python 3",
   "language": "python",
   "name": "python3"
  },
  "language_info": {
   "codemirror_mode": {
    "name": "ipython",
    "version": 3
   },
   "file_extension": ".py",
   "mimetype": "text/x-python",
   "name": "python",
   "nbconvert_exporter": "python",
   "pygments_lexer": "ipython3",
   "version": "3.6.3"
  }
 },
 "nbformat": 4,
 "nbformat_minor": 2
}
