{
 "cells": [
  {
   "cell_type": "markdown",
   "metadata": {},
   "source": [
    "  <h2> How to run this file </h2>\n",
    "  To run code in each cell,  use shift enter or tinker  with cell part of the bar menu above \n",
    "  You may come across run issues, look up online references or tinker and figure out, failure of the\n",
    "  code is not a big deal as you can always delete a file and start afresh.\n",
    "  <h2> About this block </h2>\n",
    "  This is a markdown cell, it was created by using the cell menu above and selecting the markdown option.\n",
    "  For more on the usage of Markdown scriptlook up the corresponding wikipedia page."
   ]
  },
  {
   "cell_type": "markdown",
   "metadata": {},
   "source": [
    "The cell below defines two lines, shows the resuluting plot and gives the intersection point if it is unique.\n",
    "Feel free to tinker with the code and rerurn using shift enter."
   ]
  },
  {
   "cell_type": "code",
   "execution_count": 11,
   "metadata": {},
   "outputs": [
    {
     "data": {
      "image/png": "[encoded data removed]",
      "text/plain": [
       "<matplotlib.figure.Figure at 0x13b9ed070f0>"
      ]
     },
     "metadata": {},
     "output_type": "display_data"
    }
   ],
   "source": [
    "# Comments are given on the right side in blue after the # prompt.\n",
    "# Please note that indentation is used for nested statements without using \"end\".\n",
    "# If you have a line equations of the form ax + by = c, bring them to y = mx + c form to use this code.\n",
    "\n",
    "\n",
    "import numpy as np                      # Python library for efficient computation\n",
    "import matplotlib.pyplot as plt         # Plot library\n",
    "x = np.arange(-10, 10, 0.5)             # defining the x range and step size\n",
    "m1 = 2                                  # m1 is slope for line 1\n",
    "c1 = 3                                  # c1 is intercept for line 1\n",
    "m2 = 2                                  # m2 is slope for line 2\n",
    "c2 = -2                                 # c2 is intercept for line 2\n",
    "def y(x,m,c):                                             # The definition of the line\n",
    "    return m*x + c\n",
    "plt.plot(x, y(x,m1,c1), 'b', x, y(x,m2,c2), 'p')          # Plotting the two lines in two colors, blue 'b' and green 'g'\n",
    "plt.show()                                                # After creating the plot object, it has to be shown."
   ]
  },
  {
   "cell_type": "markdown",
   "metadata": {},
   "source": [
    "Create a cell below using the insert menu at the top. Declare the cell of type \"markdown\" by selecting \"cell menu -> cell type\" and \n",
    "write some really important information like \"Computing is cool\" "
   ]
  },
  {
   "cell_type": "code",
   "execution_count": 2,
   "metadata": {},
   "outputs": [
    {
     "name": "stdout",
     "output_type": "stream",
     "text": [
      "parallel lines, solutions doesn't exist\n"
     ]
    },
    {
     "data": {
      "text/plain": [
       "('not defined', 'not defined')"
      ]
     },
     "execution_count": 2,
     "metadata": {},
     "output_type": "execute_result"
    }
   ],
   "source": [
    "# Solving the two equations, check for special cases\n",
    "x0 = \"not defined\"\n",
    "y0 = \"not defined\"\n",
    "if  (m1*m2)==0 :                             #If at least one of the line is horizontal.\n",
    "    if m1 != 0:\n",
    "        y0 = c2\n",
    "        x0 =  (c2 - c1)/m1\n",
    "    elif  m2 != 0 :\n",
    "        y0 = c1 \n",
    "        x0 =  (c1 - c2)/m2\n",
    "    elif  c1 == c2:\n",
    "         print(\"The lines are the same, zero slope\")\n",
    "         print(\"infinite number of solutions\")\n",
    "    else:\n",
    "        print(\"parallel lines zero slope, solution doesn't exist\")    \n",
    "elif (m1-m2) != 0 :\n",
    "    x0 = (c2-c1)/(m1 - m2)\n",
    "    y0 = m1*x0 + c1\n",
    "elif (c1 == c2) :\n",
    "    print(\"The lines are the same\")\n",
    "    print(\"infinite number of solutions\")\n",
    "elif c1 != c2 :\n",
    "    print(\"parallel lines, solutions doesn't exist\")\n",
    "(x0,y0)        "
   ]
  },
  {
   "cell_type": "markdown",
   "metadata": {},
   "source": [
    "Matrix form of the equation is\n",
    "$$\n",
    "\\left(\\begin{array}{cc}\n",
    "m1 & -1\\\\\n",
    "m2 & -1\n",
    "\\end{array}\\right)\n",
    "\\left(\\begin{array}{c}\n",
    "x \\\\\n",
    "y\n",
    "\\end{array}\\right)\n",
    "=\n",
    "\\left(\\begin{array}{c}\n",
    "-c1 \\\\\n",
    "-c2\n",
    "\\end{array}\\right)\n",
    "$$"
   ]
  },
  {
   "cell_type": "code",
   "execution_count": 9,
   "metadata": {},
   "outputs": [
    {
     "data": {
      "image/png": "[encoded data removed]",
      "text/plain": [
       "<matplotlib.figure.Figure at 0x13b9ed63128>"
      ]
     },
     "metadata": {},
     "output_type": "display_data"
    }
   ],
   "source": [
    "# Define two lines and draw them\n",
    "m1p = 2\n",
    "m2p = -1\n",
    "c1p = 1\n",
    "c2p = -2\n",
    "plt.plot(x, y(x,m1p,c1p), 'pink', x, y(x,m2p,c2p), 'c')\n",
    "plt.show()"
   ]
  },
  {
   "cell_type": "code",
   "execution_count": 12,
   "metadata": {
    "collapsed": true
   },
   "outputs": [],
   "source": [
    "# Repeat the exercise to draw three lines\n",
    "# Write the code below"
   ]
  },
  {
   "cell_type": "markdown",
   "metadata": {},
   "source": [
    "Write the matrix equation representing 3 intersecting lines, How many variables (unknowns) are there?, how many equations are there? What does the solution mean geometrically? How many different types of solutions can there be? Insert a cell below and answer the questions.\n",
    "<h2> Notation </h2>\n",
    "We use uparrow after a symbol to denote a column vector (like, $x \\uparrow$) and a horizontal arrow above the symbol \n",
    "(like, $\\vec{x}$) to denote a row vector."
   ]
  },
  {
   "cell_type": "markdown",
   "metadata": {},
   "source": [
    "  <h2> The row and column pictures </h2>\n",
    "  Consider a matrix equation $ A x\\uparrow = b \\uparrow $ as follows, \n",
    "$$\n",
    "\\left(\\begin{array}{cc}\n",
    "a_{11} & a_{12}\\\\\n",
    "a_{21} & a_{22}\n",
    "\\end{array}\\right)\n",
    "\\left(\\begin{array}{c}\n",
    "x \\\\\n",
    "y\n",
    "\\end{array}\\right)\n",
    "=\n",
    "\\left(\\begin{array}{c}\n",
    "b_1 \\\\\n",
    "b_2\n",
    "\\end{array}\\right)\n",
    "$$\n",
    "   \n",
    "The question of finding solutions of the above matrix equation can be thought of as that of finding the intersection point(s) for a set of lines. This gemetric picture is also known as row picture of the matrix equation.\n",
    "The equations in the row picture are written as,\n",
    "$$\n",
    "    a_{11} x + a_{12} y = b_1 \\\\\n",
    "    a_{21} x + a_{22} y = b_2.\n",
    "$$\n",
    "One can also interprete the matrix equation in terms of addition of vectors as follows,\n",
    "$$\n",
    "x\n",
    "\\left(\\begin{array}{c}\n",
    "a_{11} \\\\\n",
    "a_{21}\n",
    "\\end{array}\\right)\n",
    "+ y\n",
    "\\left(\\begin{array}{c}\n",
    "a_{12} \\\\\n",
    "a_{22}\n",
    "\\end{array}\\right)\n",
    "=\n",
    "\\left(\\begin{array}{c}\n",
    "b_1 \\\\\n",
    "b_2\n",
    "\\end{array}\\right)\n",
    "$$\n",
    "\n",
    "Here the question is to look for scaling facctors $x$ and $y$ so that the vector sum of the two given scaled vectors \n",
    "equals the RHS. This geometric picture is known as the column picture. A detailed discussion and exercises can be found\n",
    "in \"Linear Algebra and its applications\" (chapter 1) by Gilbert Strang.\n",
    "  \n",
    "The matrix equation can also be interpreted in a third scenario where the matrix is to be thought of a linear \n",
    "transformation and the question reduces to that of finding a vector $x\\uparrow$ whose linear transformation gives the \n",
    "vector $b\\uparrow$.  \n",
    "\n",
    "Write a three dimensional version of the matrix equation $ A x\\uparrow = b \\uparrow $ and the corresponding row and column picture representations below."
   ]
  },
  {
   "cell_type": "code",
   "execution_count": null,
   "metadata": {
    "collapsed": true
   },
   "outputs": [],
   "source": []
  }
 ],
 "metadata": {
  "kernelspec": {
   "display_name": "Python 3",
   "language": "python",
   "name": "python3"
  },
  "language_info": {
   "codemirror_mode": {
    "name": "ipython",
    "version": 3
   },
   "file_extension": ".py",
   "mimetype": "text/x-python",
   "name": "python",
   "nbconvert_exporter": "python",
   "pygments_lexer": "ipython3",
   "version": "3.6.3"
  }
 },
 "nbformat": 4,
 "nbformat_minor": 2
}
